{
 "cells": [
  {
   "cell_type": "code",
   "execution_count": null,
   "id": "928fb8d3",
   "metadata": {},
   "outputs": [],
   "source": [
    "\"jsjdajsdanjsdnasda\".replace('a','')"
   ]
  },
  {
   "cell_type": "code",
   "execution_count": null,
   "id": "c69209ff",
   "metadata": {},
   "outputs": [],
   "source": [
    "\"texto padrão\".replace('texto','frase')"
   ]
  },
  {
   "cell_type": "code",
   "execution_count": null,
   "id": "ea744b9a",
   "metadata": {},
   "outputs": [],
   "source": [
    "nome = 'Miura'"
   ]
  },
  {
   "cell_type": "code",
   "execution_count": null,
   "id": "31b0e207",
   "metadata": {},
   "outputs": [],
   "source": [
    "nome.upper()"
   ]
  },
  {
   "cell_type": "code",
   "execution_count": null,
   "id": "b616b807",
   "metadata": {},
   "outputs": [],
   "source": [
    "nome.lower()"
   ]
  },
  {
   "cell_type": "code",
   "execution_count": null,
   "id": "696b919c",
   "metadata": {},
   "outputs": [],
   "source": [
    "ord('A')"
   ]
  },
  {
   "cell_type": "markdown",
   "id": "150fb7bb",
   "metadata": {},
   "source": [
    "# Um pouco mais sobre sistemas númericos\n",
    "### binário, decimal, hexadecimal etc\n",
    "https://growthdev.com.br/programacao/sistemas-de-numeracao-binario-octal-decimal-e-hexadecimal/"
   ]
  },
  {
   "cell_type": "markdown",
   "id": "fe56b90f",
   "metadata": {},
   "source": [
    "https://canaltech.com.br/produtos/O-que-e-sistema-hexadecimal/"
   ]
  },
  {
   "cell_type": "code",
   "execution_count": null,
   "id": "6c1353a2",
   "metadata": {},
   "outputs": [],
   "source": [
    "print(chr(300002))"
   ]
  },
  {
   "cell_type": "code",
   "execution_count": null,
   "id": "2a4779b5",
   "metadata": {},
   "outputs": [],
   "source": [
    "texto = \"ALGO DE ERRАDO NÃO ESTÁ CERTO?!\""
   ]
  },
  {
   "cell_type": "code",
   "execution_count": null,
   "id": "7ca6c72c",
   "metadata": {},
   "outputs": [],
   "source": [
    "print(texto)"
   ]
  },
  {
   "cell_type": "code",
   "execution_count": null,
   "id": "787e39f8",
   "metadata": {},
   "outputs": [],
   "source": [
    "for letra in texto:\n",
    "    print(\"A letra %s é o número %d\" %(letra,ord(letra)))"
   ]
  },
  {
   "cell_type": "markdown",
   "id": "2acfc00e",
   "metadata": {},
   "source": [
    "# Unicode \n",
    "https://pt.wikipedia.org/wiki/Unicode"
   ]
  },
  {
   "cell_type": "markdown",
   "id": "8c326f14",
   "metadata": {},
   "source": [
    "\n",
    "https://www.ime.usp.br/~pf/algoritmos/apend/unicode.html"
   ]
  },
  {
   "cell_type": "code",
   "execution_count": null,
   "id": "e5305123",
   "metadata": {},
   "outputs": [],
   "source": [
    "help(print)"
   ]
  },
  {
   "cell_type": "code",
   "execution_count": null,
   "id": "25ece83e",
   "metadata": {},
   "outputs": [],
   "source": [
    "help(\"\".replace)"
   ]
  },
  {
   "cell_type": "code",
   "execution_count": null,
   "id": "1539f39e",
   "metadata": {},
   "outputs": [],
   "source": [
    "def x():\n",
    "    \"\"\"uma função qualquer que sempre retorna 1\"\"\"\n",
    "    return 1"
   ]
  },
  {
   "cell_type": "code",
   "execution_count": null,
   "id": "f8083eae",
   "metadata": {},
   "outputs": [],
   "source": [
    "help(x)"
   ]
  },
  {
   "cell_type": "code",
   "execution_count": null,
   "id": "492e34d5",
   "metadata": {},
   "outputs": [],
   "source": [
    "v = [1,2,3,5,6,8,8,1,1,2,3]"
   ]
  },
  {
   "cell_type": "code",
   "execution_count": null,
   "id": "1ec4575c",
   "metadata": {},
   "outputs": [],
   "source": [
    "v[::-2]"
   ]
  },
  {
   "cell_type": "code",
   "execution_count": null,
   "id": "bf126fde",
   "metadata": {},
   "outputs": [],
   "source": [
    "a = \"ovo\""
   ]
  },
  {
   "cell_type": "code",
   "execution_count": null,
   "id": "07a4d50a",
   "metadata": {},
   "outputs": [],
   "source": [
    "a[::-1]"
   ]
  },
  {
   "cell_type": "code",
   "execution_count": null,
   "id": "1aa0961a",
   "metadata": {},
   "outputs": [],
   "source": [
    "b = 'Bruno'"
   ]
  },
  {
   "cell_type": "code",
   "execution_count": null,
   "id": "4df4aa52",
   "metadata": {},
   "outputs": [],
   "source": [
    "b[::-1]"
   ]
  },
  {
   "cell_type": "code",
   "execution_count": null,
   "id": "93dd1153",
   "metadata": {},
   "outputs": [],
   "source": [
    "sorted(v)"
   ]
  },
  {
   "cell_type": "markdown",
   "id": "0d2ccff7",
   "metadata": {},
   "source": [
    "# Link para sorted"
   ]
  },
  {
   "cell_type": "markdown",
   "id": "6c607252",
   "metadata": {},
   "source": [
    "https://www.treinaweb.com.br/blog/conheca-os-principais-algoritmos-de-ordenacao\n",
    "    https://www.freecodecamp.org/portuguese/news/algoritmos-de-ordenacao-explicados-com-exemplos-em-python-java-e-c/\n",
    "        https://pt.wikipedia.org/wiki/Algoritmo_de_ordena%C3%A7%C3%A3o"
   ]
  },
  {
   "cell_type": "code",
   "execution_count": null,
   "id": "d7c97655",
   "metadata": {},
   "outputs": [],
   "source": [
    "import __hello__"
   ]
  },
  {
   "cell_type": "code",
   "execution_count": null,
   "id": "66e66eae",
   "metadata": {},
   "outputs": [],
   "source": [
    "import antigravity "
   ]
  },
  {
   "cell_type": "code",
   "execution_count": null,
   "id": "c6fc752c",
   "metadata": {},
   "outputs": [],
   "source": [
    "import time "
   ]
  },
  {
   "cell_type": "code",
   "execution_count": null,
   "id": "bb7d89f9",
   "metadata": {},
   "outputs": [],
   "source": [
    "dir(time)"
   ]
  },
  {
   "cell_type": "code",
   "execution_count": null,
   "id": "98896897",
   "metadata": {},
   "outputs": [],
   "source": [
    "from time import time\n",
    "from time import sleep\n"
   ]
  },
  {
   "cell_type": "code",
   "execution_count": null,
   "id": "352ebf74",
   "metadata": {},
   "outputs": [],
   "source": [
    "inicio = time()\n",
    "for i in range(10):\n",
    "    sleep(1)\n",
    "print('tempo decorrido %.2f' %(time() - inicio))\n"
   ]
  },
  {
   "cell_type": "code",
   "execution_count": null,
   "id": "cf056b7c",
   "metadata": {},
   "outputs": [],
   "source": [
    "f = open('dados_genericos.txt', mode='r')"
   ]
  },
  {
   "cell_type": "code",
   "execution_count": null,
   "id": "3c7a417f",
   "metadata": {},
   "outputs": [],
   "source": [
    "conteudo_arquivo = f.read()"
   ]
  },
  {
   "cell_type": "code",
   "execution_count": null,
   "id": "8de772ce",
   "metadata": {},
   "outputs": [],
   "source": [
    "conteudo_arquivo.split('\\n')"
   ]
  },
  {
   "cell_type": "code",
   "execution_count": null,
   "id": "0f61c8f7",
   "metadata": {},
   "outputs": [],
   "source": [
    "f.close()"
   ]
  },
  {
   "cell_type": "code",
   "execution_count": null,
   "id": "4125f9e1",
   "metadata": {},
   "outputs": [],
   "source": [
    "print('\\n oi \\n oi')"
   ]
  },
  {
   "cell_type": "code",
   "execution_count": null,
   "id": "2c0978f1",
   "metadata": {},
   "outputs": [],
   "source": [
    "f2 = open('iris.csv',mode='r')\n",
    "iris = f2.readlines()\n",
    "f2.close()"
   ]
  },
  {
   "cell_type": "code",
   "execution_count": null,
   "id": "656c55fc",
   "metadata": {},
   "outputs": [],
   "source": [
    "iris"
   ]
  },
  {
   "cell_type": "code",
   "execution_count": null,
   "id": "13d3ea0d",
   "metadata": {},
   "outputs": [],
   "source": [
    "3,4,2,6,especie1\n",
    "4,3,2,5,especie2\n",
    "5,3,2,1,especie3"
   ]
  },
  {
   "cell_type": "code",
   "execution_count": null,
   "id": "5f99c8ba",
   "metadata": {},
   "outputs": [],
   "source": [
    "f3 = open('saida_iris.txt',mode='w')\n",
    "f3.write(iris.split('\\n')[0])\n",
    "f3.close()"
   ]
  },
  {
   "cell_type": "code",
   "execution_count": null,
   "id": "fd62cb22",
   "metadata": {},
   "outputs": [],
   "source": []
  }
 ],
 "metadata": {
  "kernelspec": {
   "display_name": "Python 3 (ipykernel)",
   "language": "python",
   "name": "python3"
  },
  "language_info": {
   "codemirror_mode": {
    "name": "ipython",
    "version": 3
   },
   "file_extension": ".py",
   "mimetype": "text/x-python",
   "name": "python",
   "nbconvert_exporter": "python",
   "pygments_lexer": "ipython3",
   "version": "3.9.7"
  }
 },
 "nbformat": 4,
 "nbformat_minor": 5
}
