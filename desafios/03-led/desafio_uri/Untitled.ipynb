{
 "cells": [
  {
   "cell_type": "code",
   "execution_count": 20,
   "id": "e896bed4",
   "metadata": {},
   "outputs": [
    {
     "name": "stdout",
     "output_type": "stream",
     "text": [
      "1\n",
      "154656156156156156156561156165156165156156156156156156156156156516156516156\n",
      "327 leds\n"
     ]
    }
   ],
   "source": [
    "qtd_leds = [6,2,5,5,4,5,6,3,7,6]\n",
    "n = int(input())\n",
    "for i in range(n):\n",
    "    num = input()\n",
    "    aux = 0\n",
    "    for n1 in num:\n",
    "        aux = aux + qtd_leds[int(n1)]\n",
    "    print(str(aux) + ' leds')"
   ]
  },
  {
   "cell_type": "markdown",
   "id": "1d5c50ca",
   "metadata": {},
   "source": [
    "https://www.alura.com.br/artigos/como-classificar-algoritmos-big-o-notation?gclid=Cj0KCQiApKagBhC1ARIsAFc7Mc7qDF7qOzPs6Qi-gjaDy1LykaEVJpI6a6md5WbfcU1E3ANPhc5SQ2EaAi3HEALw_wcB"
   ]
  },
  {
   "cell_type": "markdown",
   "id": "715c4567",
   "metadata": {},
   "source": [
    "https://edisciplinas.usp.br/pluginfile.php/1799657/mod_resource/content/2/Analise_Algoritmos_II_Ricardo_Campello.pdf"
   ]
  },
  {
   "cell_type": "markdown",
   "id": "d0a5e5cb",
   "metadata": {},
   "source": [
    "https://medium.com/linkapi-solutions/o-que-%C3%A9-big-o-notation-32f171e4a045"
   ]
  },
  {
   "cell_type": "markdown",
   "id": "b2d19b17",
   "metadata": {},
   "source": [
    "https://pt.wikipedia.org/wiki/Grande-O"
   ]
  },
  {
   "cell_type": "code",
   "execution_count": null,
   "id": "e790e945",
   "metadata": {},
   "outputs": [],
   "source": []
  }
 ],
 "metadata": {
  "kernelspec": {
   "display_name": "Python 3 (ipykernel)",
   "language": "python",
   "name": "python3"
  },
  "language_info": {
   "codemirror_mode": {
    "name": "ipython",
    "version": 3
   },
   "file_extension": ".py",
   "mimetype": "text/x-python",
   "name": "python",
   "nbconvert_exporter": "python",
   "pygments_lexer": "ipython3",
   "version": "3.9.7"
  }
 },
 "nbformat": 4,
 "nbformat_minor": 5
}
