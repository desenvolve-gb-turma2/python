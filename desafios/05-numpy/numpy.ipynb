{
 "cells": [
  {
   "cell_type": "markdown",
   "id": "4d0a8636",
   "metadata": {},
   "source": [
    "# Numpy"
   ]
  },
  {
   "cell_type": "markdown",
   "id": "4914a908",
   "metadata": {},
   "source": [
    "* grande quantidade de dados\n",
    "* se assemelha a lista mas tem mais \"poder\"\n",
    "* numpy é escrito em C\n",
    "* https://medium.com/ensina-ai/entendendo-a-biblioteca-numpy-4858fde63355\n",
    "* https://pypi.org/\n",
    "\n",
    "###### O NumPy é uma poderosa biblioteca Python que é usada principalmente para realizar cálculos em Arrays Multidimensionais. O NumPy fornece um grande conjunto de funções e operações de biblioteca que ajudam os programadores a executar facilmente cálculos numéricos. Esses tipos de cálculos numéricos são amplamente utilizados em tarefas como\n",
    "* Modelos de Machine Learning\n",
    "* Processamento de Imagem e Computação Gráfica\n",
    "* Tarefas matemáticas"
   ]
  },
  {
   "cell_type": "markdown",
   "id": "7591f92c",
   "metadata": {},
   "source": [
    "** Instalar a biblioteca caso não tennha ** py -m pip install numpy"
   ]
  },
  {
   "cell_type": "code",
   "execution_count": 107,
   "id": "7a455ab2",
   "metadata": {},
   "outputs": [],
   "source": [
    "#como fazer o import\n",
    "import numpy as np"
   ]
  },
  {
   "cell_type": "code",
   "execution_count": 108,
   "id": "4357b7b8",
   "metadata": {},
   "outputs": [],
   "source": [
    "#lista\n",
    "v = [10,20,30,40]"
   ]
  },
  {
   "cell_type": "code",
   "execution_count": 109,
   "id": "4bb037ad",
   "metadata": {},
   "outputs": [
    {
     "data": {
      "text/plain": [
       "list"
      ]
     },
     "execution_count": 109,
     "metadata": {},
     "output_type": "execute_result"
    }
   ],
   "source": [
    "#como ver o tipo de uma variável\n",
    "type(v)"
   ]
  },
  {
   "cell_type": "code",
   "execution_count": 110,
   "id": "e6d28911",
   "metadata": {},
   "outputs": [
    {
     "data": {
      "text/plain": [
       "float"
      ]
     },
     "execution_count": 110,
     "metadata": {},
     "output_type": "execute_result"
    }
   ],
   "source": [
    "type(1.5)"
   ]
  },
  {
   "cell_type": "code",
   "execution_count": 111,
   "id": "cd7cb8d6",
   "metadata": {},
   "outputs": [],
   "source": [
    "#criando o primeiro array com a numpy a partir de uma lista\n",
    "arr = np.array(v)"
   ]
  },
  {
   "cell_type": "code",
   "execution_count": 113,
   "id": "60c08018",
   "metadata": {},
   "outputs": [
    {
     "name": "stdout",
     "output_type": "stream",
     "text": [
      "40\n",
      "10\n"
     ]
    }
   ],
   "source": [
    "#acessando as posições do array\n",
    "print(arr[-1])\n",
    "print(arr[0])"
   ]
  },
  {
   "cell_type": "code",
   "execution_count": 114,
   "id": "5c715d95",
   "metadata": {},
   "outputs": [
    {
     "data": {
      "text/plain": [
       "numpy.ndarray"
      ]
     },
     "execution_count": 114,
     "metadata": {},
     "output_type": "execute_result"
    }
   ],
   "source": [
    "#verificando o tipo da variável\n",
    "type(arr)"
   ]
  },
  {
   "cell_type": "code",
   "execution_count": 115,
   "id": "05978ac2",
   "metadata": {},
   "outputs": [
    {
     "data": {
      "text/plain": [
       "40"
      ]
     },
     "execution_count": 115,
     "metadata": {},
     "output_type": "execute_result"
    }
   ],
   "source": [
    "#pegando o maior valor do array\n",
    "arr.max()"
   ]
  },
  {
   "cell_type": "code",
   "execution_count": 116,
   "id": "99b65647",
   "metadata": {
    "scrolled": true
   },
   "outputs": [
    {
     "data": {
      "text/plain": [
       "10"
      ]
     },
     "execution_count": 116,
     "metadata": {},
     "output_type": "execute_result"
    }
   ],
   "source": [
    "#pegando o menor valor do array\n",
    "arr.min()"
   ]
  },
  {
   "cell_type": "code",
   "execution_count": 117,
   "id": "336392d6",
   "metadata": {},
   "outputs": [],
   "source": [
    "#criando uma lista de listas similar a uma matriz\n",
    "lista_lista = [[1,2,3],[22,3,2],[1,2,3]]"
   ]
  },
  {
   "cell_type": "code",
   "execution_count": 118,
   "id": "bf71a409",
   "metadata": {},
   "outputs": [],
   "source": [
    "#criando uma matriz via num py com mais de uma dimensão\n",
    "m_numpy = np.array(lista_lista)"
   ]
  },
  {
   "cell_type": "code",
   "execution_count": 120,
   "id": "391090eb",
   "metadata": {},
   "outputs": [
    {
     "data": {
      "text/plain": [
       "(3, 3)"
      ]
     },
     "execution_count": 120,
     "metadata": {},
     "output_type": "execute_result"
    }
   ],
   "source": [
    "#verifica a ordem da matriz ou quantidade de elementos \n",
    "#por linha coluna etc\n",
    "m_numpy.shape"
   ]
  },
  {
   "cell_type": "code",
   "execution_count": 121,
   "id": "f75e4b02",
   "metadata": {},
   "outputs": [
    {
     "data": {
      "text/plain": [
       "array([[ 1,  2,  3],\n",
       "       [22,  3,  2],\n",
       "       [ 1,  2,  3]])"
      ]
     },
     "execution_count": 121,
     "metadata": {},
     "output_type": "execute_result"
    }
   ],
   "source": [
    "#visualização\n",
    "m_numpy"
   ]
  },
  {
   "cell_type": "code",
   "execution_count": 122,
   "id": "2a9dcb93",
   "metadata": {},
   "outputs": [],
   "source": [
    "#mudando o valor de um elemento da matriz\n",
    "m_numpy[-1][-1] = 8"
   ]
  },
  {
   "cell_type": "code",
   "execution_count": 123,
   "id": "b601592c",
   "metadata": {},
   "outputs": [],
   "source": [
    "#mudando uma linha inteira da matriz por novos valores\n",
    "m_numpy[1] = [3,4,5]"
   ]
  },
  {
   "cell_type": "code",
   "execution_count": 38,
   "id": "91a218dd",
   "metadata": {},
   "outputs": [],
   "source": [
    "#mudando uma linha inteira da matriz \n",
    "#por um valor especifico em todos os elementos\n",
    "m_numpy[0] = 2"
   ]
  },
  {
   "cell_type": "code",
   "execution_count": 124,
   "id": "051ff623",
   "metadata": {},
   "outputs": [
    {
     "data": {
      "text/plain": [
       "array([[ 99, 100, 101],\n",
       "       [101, 102, 103],\n",
       "       [ 99, 100, 106]])"
      ]
     },
     "execution_count": 124,
     "metadata": {},
     "output_type": "execute_result"
    }
   ],
   "source": [
    "#operações com cada elemento da matriz\n",
    "#são validas qualquer operação aritmética\n",
    "m_numpy + 98"
   ]
  },
  {
   "cell_type": "code",
   "execution_count": 125,
   "id": "a1400ee6",
   "metadata": {},
   "outputs": [
    {
     "data": {
      "text/plain": [
       "[5, 6, 7, 8, 9]"
      ]
     },
     "execution_count": 125,
     "metadata": {},
     "output_type": "execute_result"
    }
   ],
   "source": [
    "#criando uma lista ordenada começando em 5 e indo até 9(10-1)\n",
    "list(range(5,10))"
   ]
  },
  {
   "cell_type": "code",
   "execution_count": 127,
   "id": "435f7718",
   "metadata": {},
   "outputs": [
    {
     "data": {
      "text/plain": [
       "array([5, 7, 9])"
      ]
     },
     "execution_count": 127,
     "metadata": {},
     "output_type": "execute_result"
    }
   ],
   "source": [
    "#criando uma lista ordenada começando em 5 e indo até 9(10-1)\n",
    "#pulando de 2 em 2\n",
    "np.arange(5,10,2)"
   ]
  },
  {
   "cell_type": "code",
   "execution_count": 129,
   "id": "90f48b0e",
   "metadata": {},
   "outputs": [
    {
     "data": {
      "text/plain": [
       "array([[0., 0., 0.],\n",
       "       [0., 0., 0.],\n",
       "       [0., 0., 0.],\n",
       "       [0., 0., 0.],\n",
       "       [0., 0., 0.]])"
      ]
     },
     "execution_count": 129,
     "metadata": {},
     "output_type": "execute_result"
    }
   ],
   "source": [
    "#criando uma matriz totalmente de zeros\n",
    "#ordem de 5 linhas e 3 colunas\n",
    "np.zeros((5,3))"
   ]
  },
  {
   "cell_type": "code",
   "execution_count": 130,
   "id": "581dd295",
   "metadata": {},
   "outputs": [
    {
     "data": {
      "text/plain": [
       "array([[1., 1., 1., 1.],\n",
       "       [1., 1., 1., 1.],\n",
       "       [1., 1., 1., 1.]])"
      ]
     },
     "execution_count": 130,
     "metadata": {},
     "output_type": "execute_result"
    }
   ],
   "source": [
    "#criando uma matriz totalmente de uns\n",
    "#ordem de 3 linhas e 4 colunas\n",
    "np.ones((3,4))"
   ]
  },
  {
   "cell_type": "code",
   "execution_count": 131,
   "id": "781bafbc",
   "metadata": {},
   "outputs": [
    {
     "data": {
      "text/plain": [
       "array([[1., 0., 0., 0., 0., 0., 0., 0., 0., 0.],\n",
       "       [0., 1., 0., 0., 0., 0., 0., 0., 0., 0.],\n",
       "       [0., 0., 1., 0., 0., 0., 0., 0., 0., 0.],\n",
       "       [0., 0., 0., 1., 0., 0., 0., 0., 0., 0.],\n",
       "       [0., 0., 0., 0., 1., 0., 0., 0., 0., 0.],\n",
       "       [0., 0., 0., 0., 0., 1., 0., 0., 0., 0.],\n",
       "       [0., 0., 0., 0., 0., 0., 1., 0., 0., 0.],\n",
       "       [0., 0., 0., 0., 0., 0., 0., 1., 0., 0.],\n",
       "       [0., 0., 0., 0., 0., 0., 0., 0., 1., 0.],\n",
       "       [0., 0., 0., 0., 0., 0., 0., 0., 0., 1.]])"
      ]
     },
     "execution_count": 131,
     "metadata": {},
     "output_type": "execute_result"
    }
   ],
   "source": [
    "#criando a matriz identidade\n",
    "#tem determinante igual a 1 \n",
    "#diagonal principal com 1\n",
    "#todo o resto é zero\n",
    "np.eye(10)"
   ]
  },
  {
   "cell_type": "code",
   "execution_count": 132,
   "id": "a58e6bf7",
   "metadata": {},
   "outputs": [
    {
     "data": {
      "text/plain": [
       "array([[  0,   1,   2,   3,   4],\n",
       "       [  5,   6,   7,   8,   9],\n",
       "       [ 10,  11,  12,  13,  14],\n",
       "       [ 15,  16,  17,  18,  19],\n",
       "       [ 20,  21,  22,  23,  24],\n",
       "       [ 25,  26,  27,  28,  29],\n",
       "       [ 30,  31,  32,  33,  34],\n",
       "       [ 35,  36,  37,  38,  39],\n",
       "       [ 40,  41,  42,  43,  44],\n",
       "       [ 45,  46,  47,  48,  49],\n",
       "       [ 50,  51,  52,  53,  54],\n",
       "       [ 55,  56,  57,  58,  59],\n",
       "       [ 60,  61,  62,  63,  64],\n",
       "       [ 65,  66,  67,  68,  69],\n",
       "       [ 70,  71,  72,  73,  74],\n",
       "       [ 75,  76,  77,  78,  79],\n",
       "       [ 80,  81,  82,  83,  84],\n",
       "       [ 85,  86,  87,  88,  89],\n",
       "       [ 90,  91,  92,  93,  94],\n",
       "       [ 95,  96,  97,  98,  99],\n",
       "       [100, 101, 102, 103, 104],\n",
       "       [105, 106, 107, 108, 109],\n",
       "       [110, 111, 112, 113, 114],\n",
       "       [115, 116, 117, 118, 119],\n",
       "       [120, 121, 122, 123, 124],\n",
       "       [125, 126, 127, 128, 129],\n",
       "       [130, 131, 132, 133, 134],\n",
       "       [135, 136, 137, 138, 139],\n",
       "       [140, 141, 142, 143, 144],\n",
       "       [145, 146, 147, 148, 149],\n",
       "       [150, 151, 152, 153, 154],\n",
       "       [155, 156, 157, 158, 159],\n",
       "       [160, 161, 162, 163, 164],\n",
       "       [165, 166, 167, 168, 169],\n",
       "       [170, 171, 172, 173, 174],\n",
       "       [175, 176, 177, 178, 179],\n",
       "       [180, 181, 182, 183, 184],\n",
       "       [185, 186, 187, 188, 189],\n",
       "       [190, 191, 192, 193, 194],\n",
       "       [195, 196, 197, 198, 199],\n",
       "       [200, 201, 202, 203, 204]])"
      ]
     },
     "execution_count": 132,
     "metadata": {},
     "output_type": "execute_result"
    }
   ],
   "source": [
    "#mudando a ordem da matriz\n",
    "np.arange(41*5).reshape(41,5)"
   ]
  },
  {
   "cell_type": "code",
   "execution_count": 65,
   "id": "1838b02f",
   "metadata": {},
   "outputs": [
    {
     "data": {
      "text/plain": [
       "array([[[ 0,  1,  2],\n",
       "        [ 3,  4,  5],\n",
       "        [ 6,  7,  8]],\n",
       "\n",
       "       [[ 9, 10, 11],\n",
       "        [12, 13, 14],\n",
       "        [15, 16, 17]],\n",
       "\n",
       "       [[18, 19, 20],\n",
       "        [21, 22, 23],\n",
       "        [24, 25, 26]]])"
      ]
     },
     "execution_count": 65,
     "metadata": {},
     "output_type": "execute_result"
    }
   ],
   "source": [
    "np.arange(27).reshape(3,3,3)"
   ]
  },
  {
   "cell_type": "code",
   "execution_count": 133,
   "id": "f0d93234",
   "metadata": {},
   "outputs": [
    {
     "data": {
      "text/plain": [
       "array([[[[ 0,  1,  2],\n",
       "         [ 3,  4,  5],\n",
       "         [ 6,  7,  8]],\n",
       "\n",
       "        [[ 9, 10, 11],\n",
       "         [12, 13, 14],\n",
       "         [15, 16, 17]],\n",
       "\n",
       "        [[18, 19, 20],\n",
       "         [21, 22, 23],\n",
       "         [24, 25, 26]]],\n",
       "\n",
       "\n",
       "       [[[27, 28, 29],\n",
       "         [30, 31, 32],\n",
       "         [33, 34, 35]],\n",
       "\n",
       "        [[36, 37, 38],\n",
       "         [39, 40, 41],\n",
       "         [42, 43, 44]],\n",
       "\n",
       "        [[45, 46, 47],\n",
       "         [48, 49, 50],\n",
       "         [51, 52, 53]]],\n",
       "\n",
       "\n",
       "       [[[54, 55, 56],\n",
       "         [57, 58, 59],\n",
       "         [60, 61, 62]],\n",
       "\n",
       "        [[63, 64, 65],\n",
       "         [66, 67, 68],\n",
       "         [69, 70, 71]],\n",
       "\n",
       "        [[72, 73, 74],\n",
       "         [75, 76, 77],\n",
       "         [78, 79, 80]]]])"
      ]
     },
     "execution_count": 133,
     "metadata": {},
     "output_type": "execute_result"
    }
   ],
   "source": [
    "#mudando a ordem da matriz e trazendo agora 4 dimensões\n",
    "np.arange(81).reshape(3,3,3,3)"
   ]
  },
  {
   "cell_type": "code",
   "execution_count": 134,
   "id": "ee325bfd",
   "metadata": {},
   "outputs": [
    {
     "data": {
      "text/plain": [
       "True"
      ]
     },
     "execution_count": 134,
     "metadata": {},
     "output_type": "execute_result"
    }
   ],
   "source": [
    "#como validar a existência de uma letra dentro de uma string\n",
    "'a' in 'abc'"
   ]
  },
  {
   "cell_type": "code",
   "execution_count": 135,
   "id": "1901376f",
   "metadata": {},
   "outputs": [
    {
     "data": {
      "text/plain": [
       "False"
      ]
     },
     "execution_count": 135,
     "metadata": {},
     "output_type": "execute_result"
    }
   ],
   "source": [
    "#como validar a existência de uma letra dentro de uma string\n",
    "'d' in 'abc'"
   ]
  },
  {
   "cell_type": "code",
   "execution_count": 68,
   "id": "446cfdd7",
   "metadata": {},
   "outputs": [
    {
     "data": {
      "text/plain": [
       "True"
      ]
     },
     "execution_count": 68,
     "metadata": {},
     "output_type": "execute_result"
    }
   ],
   "source": [
    "#como validar a existência de um número dentro de uma lista\n",
    "1 in [1,2,3]"
   ]
  },
  {
   "cell_type": "code",
   "execution_count": 69,
   "id": "45c02135",
   "metadata": {},
   "outputs": [
    {
     "data": {
      "text/plain": [
       "False"
      ]
     },
     "execution_count": 69,
     "metadata": {},
     "output_type": "execute_result"
    }
   ],
   "source": [
    "#como validar a existência de um número dentro de uma lista\n",
    "4 in [1,2,3]"
   ]
  },
  {
   "cell_type": "code",
   "execution_count": 71,
   "id": "a80bcd5f",
   "metadata": {},
   "outputs": [
    {
     "data": {
      "text/plain": [
       "False"
      ]
     },
     "execution_count": 71,
     "metadata": {},
     "output_type": "execute_result"
    }
   ],
   "source": [
    "#como validar a existência de um número dentro de um array ou matriz numpy\n",
    "11 in np.arange(10)"
   ]
  },
  {
   "cell_type": "code",
   "execution_count": 73,
   "id": "fbfcfaa0",
   "metadata": {},
   "outputs": [],
   "source": [
    "matriz = np.ones((3,3))"
   ]
  },
  {
   "cell_type": "code",
   "execution_count": 74,
   "id": "e5c04202",
   "metadata": {},
   "outputs": [
    {
     "data": {
      "text/plain": [
       "array([[1., 1., 1.],\n",
       "       [1., 1., 1.],\n",
       "       [1., 1., 1.]])"
      ]
     },
     "execution_count": 74,
     "metadata": {},
     "output_type": "execute_result"
    }
   ],
   "source": [
    "matriz"
   ]
  },
  {
   "cell_type": "code",
   "execution_count": 77,
   "id": "fdea63b1",
   "metadata": {},
   "outputs": [
    {
     "data": {
      "text/plain": [
       "False"
      ]
     },
     "execution_count": 77,
     "metadata": {},
     "output_type": "execute_result"
    }
   ],
   "source": [
    "2 in matriz"
   ]
  },
  {
   "cell_type": "code",
   "execution_count": 78,
   "id": "9ad25129",
   "metadata": {},
   "outputs": [
    {
     "data": {
      "text/plain": [
       "True"
      ]
     },
     "execution_count": 78,
     "metadata": {},
     "output_type": "execute_result"
    }
   ],
   "source": [
    "1 in matriz"
   ]
  },
  {
   "cell_type": "code",
   "execution_count": 136,
   "id": "b9aa1e0c",
   "metadata": {},
   "outputs": [],
   "source": [
    "#como validar a existência um número ou string no dicionário\n",
    "x = {\n",
    "    'nome': 'Miura'\n",
    "    ,'idade':26\n",
    "}"
   ]
  },
  {
   "cell_type": "code",
   "execution_count": 80,
   "id": "0cf34bba",
   "metadata": {},
   "outputs": [
    {
     "data": {
      "text/plain": [
       "True"
      ]
     },
     "execution_count": 80,
     "metadata": {},
     "output_type": "execute_result"
    }
   ],
   "source": [
    "'nome'  in x"
   ]
  },
  {
   "cell_type": "code",
   "execution_count": 81,
   "id": "4bba27d1",
   "metadata": {},
   "outputs": [
    {
     "data": {
      "text/plain": [
       "False"
      ]
     },
     "execution_count": 81,
     "metadata": {},
     "output_type": "execute_result"
    }
   ],
   "source": [
    "'Miura' in x"
   ]
  },
  {
   "cell_type": "code",
   "execution_count": 137,
   "id": "b236f7b3",
   "metadata": {},
   "outputs": [
    {
     "data": {
      "text/plain": [
       "dict_keys(['nome', 'idade'])"
      ]
     },
     "execution_count": 137,
     "metadata": {},
     "output_type": "execute_result"
    }
   ],
   "source": [
    "#traz apenas as chaves do dicionário\n",
    "x.keys()"
   ]
  },
  {
   "cell_type": "code",
   "execution_count": 138,
   "id": "df88a7c2",
   "metadata": {},
   "outputs": [
    {
     "data": {
      "text/plain": [
       "dict_values(['Miura', 26])"
      ]
     },
     "execution_count": 138,
     "metadata": {},
     "output_type": "execute_result"
    }
   ],
   "source": [
    "#traz apenas os valores dos dicionários\n",
    "x.values()"
   ]
  },
  {
   "cell_type": "code",
   "execution_count": 84,
   "id": "8ee406f3",
   "metadata": {},
   "outputs": [
    {
     "data": {
      "text/plain": [
       "True"
      ]
     },
     "execution_count": 84,
     "metadata": {},
     "output_type": "execute_result"
    }
   ],
   "source": [
    "'nome' in x.keys()"
   ]
  },
  {
   "cell_type": "code",
   "execution_count": 85,
   "id": "ac952562",
   "metadata": {},
   "outputs": [
    {
     "data": {
      "text/plain": [
       "True"
      ]
     },
     "execution_count": 85,
     "metadata": {},
     "output_type": "execute_result"
    }
   ],
   "source": [
    "26 in x.values()"
   ]
  },
  {
   "cell_type": "markdown",
   "id": "050073f0",
   "metadata": {},
   "source": [
    "# Resolução do Desafio do Iris.csv"
   ]
  },
  {
   "cell_type": "code",
   "execution_count": 139,
   "id": "57a2321c",
   "metadata": {},
   "outputs": [],
   "source": [
    "#lendo um arquivo com a numpy\n",
    "dados = np.genfromtxt('iris.csv',delimiter=';',dtype='object')"
   ]
  },
  {
   "cell_type": "code",
   "execution_count": 140,
   "id": "10fde0aa",
   "metadata": {},
   "outputs": [],
   "source": [
    "#pegando todas as colunas numericas\n",
    "colunas = dados[:,:-1].astype(float)"
   ]
  },
  {
   "cell_type": "code",
   "execution_count": 141,
   "id": "7198d11b",
   "metadata": {},
   "outputs": [],
   "source": [
    "#pegando a coluna das especies\n",
    "especies = dados[:,-1]"
   ]
  },
  {
   "cell_type": "code",
   "execution_count": 143,
   "id": "4b55ee98",
   "metadata": {},
   "outputs": [],
   "source": [
    "#pegando somente 1 nome de cada espécie\n",
    "grupos_unicos = np.unique(especies)"
   ]
  },
  {
   "cell_type": "code",
   "execution_count": 147,
   "id": "9aa1d1ab",
   "metadata": {},
   "outputs": [
    {
     "name": "stdout",
     "output_type": "stream",
     "text": [
      "b'setosa'\n",
      "[ 0  1  2  3  4  5  6  7  8  9 10 11 12 13 14 15 16 17 18 19 20 21 22 23\n",
      " 24 25 26 27 28 29 30 31 32 33 34 35 36 37 38 39 40 41 42 43 44 45 46 47\n",
      " 48 49]\n",
      "------------------------------------------------------------\n",
      "Grupo b'setosa': [25.5    5.006  3.418  1.464  0.244]\n",
      "============================================================\n",
      "\n",
      "\n",
      "\n",
      "\n",
      "b'versicolor'\n",
      "[50 51 52 53 54 55 56 57 58 59 60 61 62 63 64 65 66 67 68 69 70 71 72 73\n",
      " 74 75 76 77 78 79 80 81 82 83 84 85 86 87 88 89 90 91 92 93 94 95 96 97\n",
      " 98 99]\n",
      "------------------------------------------------------------\n",
      "Grupo b'versicolor': [75.5    5.936  2.77   4.26   1.326]\n",
      "============================================================\n",
      "\n",
      "\n",
      "\n",
      "\n",
      "b'virginica'\n",
      "[100 101 102 103 104 105 106 107 108 109 110 111 112 113 114 115 116 117\n",
      " 118 119 120 121 122 123 124 125 126 127 128 129 130 131 132 133 134 135\n",
      " 136 137 138 139 140 141 142 143 144 145 146 147 148 149]\n",
      "------------------------------------------------------------\n",
      "Grupo b'virginica': [125.5     6.588   2.974   5.552   2.026]\n",
      "============================================================\n",
      "\n",
      "\n",
      "\n",
      "\n"
     ]
    }
   ],
   "source": [
    "#laço para cada especie no grupo de especies\n",
    "for grupo in grupos_unicos:\n",
    "    #nome da especie\n",
    "    print(grupo)\n",
    "    \n",
    "    #pegando o indice do da matriz que contem aquela especie na linha\n",
    "    indices = np.where(especies == grupo)[0]\n",
    "    \n",
    "    #indices da especie em questão\n",
    "    print(indices)\n",
    "    print('-'*60)\n",
    "    \n",
    "    #calculo da média para aquelas especies\n",
    "    media = np.mean(colunas[indices],axis=0)\n",
    "    \n",
    "    #print mostrando a média por coluna da especie\n",
    "    print(\"Grupo {}: {}\".format(grupo, media))\n",
    "    print('='*60)\n",
    "    print('\\n'*3)"
   ]
  },
  {
   "cell_type": "code",
   "execution_count": null,
   "id": "f07af109",
   "metadata": {},
   "outputs": [],
   "source": []
  }
 ],
 "metadata": {
  "kernelspec": {
   "display_name": "Python 3 (ipykernel)",
   "language": "python",
   "name": "python3"
  },
  "language_info": {
   "codemirror_mode": {
    "name": "ipython",
    "version": 3
   },
   "file_extension": ".py",
   "mimetype": "text/x-python",
   "name": "python",
   "nbconvert_exporter": "python",
   "pygments_lexer": "ipython3",
   "version": "3.9.7"
  }
 },
 "nbformat": 4,
 "nbformat_minor": 5
}
