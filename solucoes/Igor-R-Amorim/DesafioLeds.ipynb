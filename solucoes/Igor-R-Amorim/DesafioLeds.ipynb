{
  "nbformat": 4,
  "nbformat_minor": 0,
  "metadata": {
    "colab": {
      "provenance": []
    },
    "kernelspec": {
      "name": "python3",
      "display_name": "Python 3"
    },
    "language_info": {
      "name": "python"
    }
  },
  "cells": [
    {
      "cell_type": "markdown",
      "source": [
        "Notebook: Igor R Amorim"
      ],
      "metadata": {
        "id": "AtwzfqN5K55R"
      }
    },
    {
      "cell_type": "markdown",
      "source": [
        "\n",
        "# Contextualização:\n"
      ],
      "metadata": {
        "id": "7UM0XW-9K8lr"
      }
    },
    {
      "cell_type": "markdown",
      "source": [
        "João quer montar um painel de leds contendo diversos números. \n",
        "Ele não possui muitos leds, e não tem certeza se conseguirá montar o número desejado. \n",
        "\n",
        "Considerando a configuração dos leds dos números abaixo, faça um algoritmo que ajude João a descobrir a quantidade de leds necessário para montar o valor.\n",
        "\n",
        "![image.png](data:image/png;base64,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)\n",
        "\n",
        "\n"
      ],
      "metadata": {
        "id": "1Bx0_5cvLBk2"
      }
    },
    {
      "cell_type": "markdown",
      "source": [
        "Entrada\n",
        "- A entrada contém um inteiro N, (1 ≤ N ≤ 1000) correspondente ao número de casos de teste, seguido de N linhas, cada linha contendo um número (1 ≤ V ≤ 10^100) correspondente ao valor que João quer montar com os leds.\n",
        "\n",
        "Saída\n",
        "- Para cada caso de teste, imprima uma linha contendo o número de leds que João precisa para montar o valor desejado, seguido da palavra \"leds\"."
      ],
      "metadata": {
        "id": "T0EKXtAMMDy1"
      }
    },
    {
      "cell_type": "markdown",
      "source": [
        "# Bibliotecas Utilizadas"
      ],
      "metadata": {
        "id": "aruh72uHMmPX"
      }
    },
    {
      "cell_type": "code",
      "source": [
        "#biblioteca utilizada para limpar o terminal\n",
        "from IPython.core.display import clear_output"
      ],
      "metadata": {
        "id": "4-t7ONT-MlbR"
      },
      "execution_count": 1,
      "outputs": []
    },
    {
      "cell_type": "markdown",
      "source": [
        "# Funçoes do Programa"
      ],
      "metadata": {
        "id": "IQDBJGt8MGtn"
      }
    },
    {
      "cell_type": "code",
      "execution_count": 8,
      "metadata": {
        "id": "yA0M5JzII-Fy"
      },
      "outputs": [],
      "source": [
        "def leiaInt(msg = ''):  # inserido após decidir colocar a opção desejada pelo cliente\n",
        "    while True:  # lendo até ser correto\n",
        "        try:\n",
        "            n = input(msg)\n",
        "            n = int(n)\n",
        "        except (ValueError, TypeError):\n",
        "            print('\\033[31m', 'ERRO!', '\\033[0;0m', f'O Valor {n} não é um número valido' )\n",
        "            print('Por favor, digite um valor válido.')\n",
        "            continue\n",
        "        else:\n",
        "            return n\n",
        "            \n",
        "def menu(lista, titulo):\n",
        "  opc = 0\n",
        "  while True:\n",
        "    print('-'*50)\n",
        "    print(titulo.center(50))  # certo da quantidade de caracteres\n",
        "    print('-'*50)\n",
        "\n",
        "    # para não ficar como lista, criar um contador:\n",
        "    for i, item in enumerate(lista, start=1):\n",
        "        print(f'\\033[34m', i, '\\033[0;0m', '-','\\033[1;36m', item,'\\033[0;0m')\n",
        "\n",
        "    print() \n",
        "    opc = leiaInt('Sua Opção: ')\n",
        "      \n",
        "    if (opc-1 >= len(lista) or opc <= 0):\n",
        "      clear_output(wait=True)\n",
        "      print('\\033[31m', 'ERRO!'+'\\033[0;0m', f'O Valor {opc} não é uma opção válida' )\n",
        "      print(' Por favor, tecle um valor dentro das opções.\\n')\n",
        "    else:\n",
        "      clear_output(wait=True)\n",
        "      print(f'A opção escolhida foi: {opc} - {lista[opc-1]}')\n",
        "      break\n",
        "  return opc\n",
        "\n",
        "def qtd_leds (V,N=1):\n",
        "  tabela_leds={\n",
        "    '1':2,\n",
        "    '2':5,\n",
        "    '3':5,\n",
        "    '4':4,\n",
        "    '5':5,\n",
        "    '6':6,\n",
        "    '7':3,\n",
        "    '8':7,\n",
        "    '9':6,\n",
        "    '0':6\n",
        "  }\n",
        "  lista = list(str(V))\n",
        "  leds = 0\n",
        "  for i in lista:\n",
        "    leds += tabela_leds.get(i)\n",
        "  return leds\n",
        "  \n",
        "  "
      ]
    },
    {
      "cell_type": "code",
      "source": [
        "quadro1 = ['Sair', 'Escolher uma sequencia de numeros']\n",
        "while True:\n",
        "  opcao = menu(quadro1, \"Contador de leds - Quadro Principal\")\n",
        "  if opcao == 1:\n",
        "    break\n",
        "  \n",
        "  elif opcao == 2:\n",
        "    print('\\nQuantos numeros você deseja inserir dentro desta sequencia: ')\n",
        "    N = leiaInt()\n",
        "    if (1 <= N <= 1000):\n",
        "      while N > 0:\n",
        "        print('\\nInsira o numero desejado para calcular a quantidade de leds:')\n",
        "        V = leiaInt()\n",
        "        if (1 <= V <= (10**100)):\n",
        "          print(f'\\nResultado: ')\n",
        "          print(qtd_leds(V),'leds')\n",
        "          N-=1\n",
        "        else:\n",
        "          print('\\033[31m', 'ERRO!', '\\033[0;0m', f'O Valor {V} não é um valor valido' )\n",
        "          print('Por favor, escolha um outro numero.')\n",
        "    else:\n",
        "      print('\\033[31m', 'ERRO!', '\\033[0;0m', f'O Valor {N} não é um valor valido' )\n",
        "      print('Por favor, escolha novamente os numeros.')\n",
        "    \n",
        "    \n",
        "    \n"
      ],
      "metadata": {
        "colab": {
          "base_uri": "https://localhost:8080/"
        },
        "id": "nLM2y5LoMej3",
        "outputId": "8c5c59ba-e311-4f09-bb9a-6d64ef1d79d7"
      },
      "execution_count": 14,
      "outputs": [
        {
          "output_type": "stream",
          "name": "stdout",
          "text": [
            "A opção escolhida foi: 1 - Sair\n"
          ]
        }
      ]
    },
    {
      "cell_type": "code",
      "source": [
        "(10**100)+1"
      ],
      "metadata": {
        "colab": {
          "base_uri": "https://localhost:8080/"
        },
        "id": "g1f9SqsXY6jD",
        "outputId": "16342fe1-da21-4285-b58a-6151f53cffdc"
      },
      "execution_count": 4,
      "outputs": [
        {
          "output_type": "execute_result",
          "data": {
            "text/plain": [
              "10000000000000000000000000000000000000000000000000000000000000000000000000000000000000000000000000001"
            ]
          },
          "metadata": {},
          "execution_count": 4
        }
      ]
    },
    {
      "cell_type": "code",
      "source": [
        "qtd_leds = [6,2,5,5,4,5,6,3,7,6]\n",
        "n = int(input())\n",
        "for i in range(n):\n",
        "    num = input()\n",
        "    aux = 0\n",
        "    for n1 in num:\n",
        "        aux = aux + qtd_leds[int(n1)]\n",
        "    print(str(aux) + ' leds')"
      ],
      "metadata": {
        "colab": {
          "base_uri": "https://localhost:8080/"
        },
        "id": "wEAfQNhorOvx",
        "outputId": "1efb6242-42f3-4248-cc0a-d8cc9722cf3a"
      },
      "execution_count": 5,
      "outputs": [
        {
          "output_type": "stream",
          "name": "stdout",
          "text": [
            "2\n",
            "100\n",
            "14 leds\n",
            "200\n",
            "17 leds\n"
          ]
        }
      ]
    }
  ]
}