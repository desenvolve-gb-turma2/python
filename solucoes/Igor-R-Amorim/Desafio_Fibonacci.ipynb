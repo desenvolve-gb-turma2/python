{
  "nbformat": 4,
  "nbformat_minor": 0,
  "metadata": {
    "colab": {
      "provenance": [],
      "toc_visible": true,
      "collapsed_sections": [
        "aruh72uHMmPX",
        "IQDBJGt8MGtn",
        "BVYyCbZ8JuRl",
        "Q-NWjkKXJprR"
      ]
    },
    "kernelspec": {
      "name": "python3",
      "display_name": "Python 3"
    },
    "language_info": {
      "name": "python"
    }
  },
  "cells": [
    {
      "cell_type": "markdown",
      "source": [
        "Notebook: Igor R Amorim"
      ],
      "metadata": {
        "id": "AtwzfqN5K55R"
      }
    },
    {
      "cell_type": "markdown",
      "source": [
        "\n",
        "# Contextualização:\n"
      ],
      "metadata": {
        "id": "7UM0XW-9K8lr"
      }
    },
    {
      "cell_type": "markdown",
      "source": [
        "<h1> Sequencia de fibonacci <h1>\n"
      ],
      "metadata": {
        "id": "7Ngs2w74-v5I"
      }
    },
    {
      "cell_type": "markdown",
      "source": [
        "Na matemática, a sucessão de Fibonacci (ou sequência de Fibonacci), é uma sequência de números inteiros, começando normalmente por 0 e 1, na qual cada termo subsequente corresponde à soma dos dois anteriores. A sequência recebeu o nome do matemático italiano Leonardo de Pisa ou Leonardo Fibonacci, mais conhecido por apenas Fibonacci, que descreveu, no ano de 1202, o crescimento de uma população de coelhos, a partir desta.\n",
        "\n",
        "Os números de Fibonacci são, portanto, os números que compõem a seguinte sequência:\n",
        "\n",
        "    1, 1, 2, 3, 5, 8, 13, 21, 34, 55, 89, 144, 233, 377, 610, 987, 1597, 2584...\n",
        "\n",
        "A sequência é definida pela fórmula abaixo:\n",
        "    \n",
        "    t(n) = t(n-1) + t(n-2)\n",
        "\n",
        "sendo:\n",
        "    \n",
        "    t(1) = 1 e t(2) = 1\n",
        "\n",
        "portanto:\n",
        "    \n",
        "    t(3) = t(1) + t(2)\n",
        "    t(3) = 1 + 1\n",
        "    t(3) = 2"
      ],
      "metadata": {
        "id": "1Bx0_5cvLBk2"
      }
    },
    {
      "cell_type": "markdown",
      "source": [
        "<h2> Desafio: <h2>"
      ],
      "metadata": {
        "id": "g3Mc316o_Xyk"
      }
    },
    {
      "cell_type": "markdown",
      "source": [
        "Escreva uma função na linguagem de programação Python utilizando a versão de sua preferência que realize o cálculo da sequencia de Fibonacci. \n",
        "\n",
        "Essa função deve funcionar de tal forma que receba como parâmetro a quantidade de elementos a calcular e retorne a lista dos números calculados em sua ordem original."
      ],
      "metadata": {
        "id": "T0EKXtAMMDy1"
      }
    },
    {
      "cell_type": "markdown",
      "source": [
        "# Bibliotecas Utilizadas"
      ],
      "metadata": {
        "id": "aruh72uHMmPX"
      }
    },
    {
      "cell_type": "code",
      "source": [
        "#biblioteca utilizada para limpar o terminal\n",
        "from IPython.core.display import clear_output"
      ],
      "metadata": {
        "id": "4-t7ONT-MlbR"
      },
      "execution_count": null,
      "outputs": []
    },
    {
      "cell_type": "markdown",
      "source": [
        "# Funçoes do Programa"
      ],
      "metadata": {
        "id": "IQDBJGt8MGtn"
      }
    },
    {
      "cell_type": "code",
      "execution_count": null,
      "metadata": {
        "id": "yA0M5JzII-Fy"
      },
      "outputs": [],
      "source": [
        "def leiaInt(msg = ''):  # inserido após decidir colocar a opção desejada pelo cliente\n",
        "    while True:  # lendo até ser correto\n",
        "        try:\n",
        "            n = input(msg)\n",
        "            n = int(n)\n",
        "        except (ValueError, TypeError):\n",
        "            print('\\033[31m', 'ERRO!', '\\033[0;0m', f'O Valor {n} não é um número valido' )\n",
        "            print('Por favor, digite um valor válido.')\n",
        "            continue\n",
        "        else:\n",
        "            return n\n",
        "            \n",
        "def menu(lista, titulo):\n",
        "  opc = 0\n",
        "  while True:\n",
        "    print('-'*50)\n",
        "    print(titulo.center(50))  # certo da quantidade de caracteres\n",
        "    print('-'*50)\n",
        "\n",
        "    # para não ficar como lista, criar um contador:\n",
        "    for i, item in enumerate(lista, start=1):\n",
        "        print(f'\\033[34m', i, '\\033[0;0m', '-','\\033[1;36m', item,'\\033[0;0m')\n",
        "\n",
        "    print() \n",
        "    opc = leiaInt('Sua Opção: ')\n",
        "      \n",
        "    if (opc-1 >= len(lista) or opc <= 0):\n",
        "      clear_output(wait=True)\n",
        "      print('\\033[31m', 'ERRO!'+'\\033[0;0m', f'O Valor {opc} não é uma opção válida' )\n",
        "      print(' Por favor, tecle um valor dentro das opções.\\n')\n",
        "    else:\n",
        "      clear_output(wait=True)\n",
        "      print(f'A opção escolhida foi: {opc} - {lista[opc-1]}')\n",
        "      break\n",
        "  return opc\n",
        "\n",
        "def fibonacci(qtd_vezes):\n",
        "  if qtd_vezes == 1:\n",
        "    lista = [0]\n",
        "  elif qtd_vezes == 2:\n",
        "    lista = [0,1]\n",
        "  else:\n",
        "    lista = [0,1]\n",
        "    for i in range(2, qtd_vezes):\n",
        "      num = lista[i-1] + lista[i-2]\n",
        "      lista.append(num)\n",
        "\n",
        "  return lista"
      ]
    },
    {
      "cell_type": "markdown",
      "source": [
        "# Testando a função"
      ],
      "metadata": {
        "id": "BVYyCbZ8JuRl"
      }
    },
    {
      "cell_type": "code",
      "source": [
        "fibonacci(19)"
      ],
      "metadata": {
        "colab": {
          "base_uri": "https://localhost:8080/"
        },
        "id": "DWC48RhNDzLg",
        "outputId": "e301641d-2d39-4966-e31f-0c9d6c45bb83"
      },
      "execution_count": null,
      "outputs": [
        {
          "output_type": "execute_result",
          "data": {
            "text/plain": [
              "[0, 1, 1, 2, 3, 5, 8, 13, 21, 34, 55, 89, 144, 233, 377, 610, 987, 1597, 2584]"
            ]
          },
          "metadata": {},
          "execution_count": 22
        }
      ]
    },
    {
      "cell_type": "markdown",
      "source": [
        "# Quadro Principal"
      ],
      "metadata": {
        "id": "Q-NWjkKXJprR"
      }
    },
    {
      "cell_type": "code",
      "source": [
        "quadro1 = ['Sair', 'Escolher um novo numero']\n",
        "while True:\n",
        "  opcao = menu(quadro1, \"Sequencia de fibonacci\")\n",
        "  if opcao == 1:\n",
        "    break\n",
        "  \n",
        "  elif opcao == 2:\n",
        "    print('\\nInsira a quantidade numeros da sequência fibonacci você deseja retornar')\n",
        "    N = leiaInt()\n",
        "    if N>=1:\n",
        "      print()\n",
        "      print('sequência: ',fibonacci(N))\n",
        "      print()\n",
        "    else:\n",
        "      print('\\n\\033[31m', 'ERRO!', '\\033[0;0m', f'O Valor {N} não é um valor valido' )\n",
        "      print('Por favor, escolha novamente um numero válido.')"
      ],
      "metadata": {
        "colab": {
          "base_uri": "https://localhost:8080/"
        },
        "id": "nLM2y5LoMej3",
        "outputId": "9f953a1e-d493-4a7c-98a6-fec1403b95a1"
      },
      "execution_count": null,
      "outputs": [
        {
          "output_type": "stream",
          "name": "stdout",
          "text": [
            "A opção escolhida foi: 1 - Sair\n"
          ]
        }
      ]
    }
  ]
}
